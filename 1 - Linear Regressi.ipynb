{
 "cells": [
  {
   "cell_type": "markdown",
   "metadata": {
    "id": "qRX5gXldRaGJ"
   },
   "source": [
    "# **Import Required Libraries/Modules**"
   ]
  },
  {
   "cell_type": "code",
   "execution_count": 1,
   "metadata": {
    "executionInfo": {
     "elapsed": 1371,
     "status": "ok",
     "timestamp": 1668861331450,
     "user": {
      "displayName": "Yohanees Hutagalung",
      "userId": "16601786204217273537"
     },
     "user_tz": -60
    },
    "id": "xQpz1hoFP48i"
   },
   "outputs": [],
   "source": [
    "# Import Libraries\n",
    "from datetime import datetime #=> date time conversion on dataframe\n",
    "import datetime as dt\n",
    "import re\n",
    "\n",
    "# Dataframe\n",
    "import pandas as pd\n",
    " \n",
    "# Numerical\n",
    "import numpy as np\n",
    "import math\n",
    "from math import sqrt\n",
    "\n",
    "# Preprocessing\n",
    "from sklearn.preprocessing import MinMaxScaler\n",
    "\n",
    "# Model\n",
    "from sklearn.linear_model import LinearRegression\n",
    "from sklearn.tree import DecisionTreeRegressor\n",
    "from sklearn.svm import SVR\n",
    "from sklearn.linear_model import Ridge\n",
    "from sklearn.ensemble import RandomForestRegressor\n",
    "\n",
    "\n",
    "# Evaluating\n",
    "from sklearn.metrics import mean_squared_error, mean_absolute_error, r2_score \n",
    "\n",
    "# Visualization\n",
    "import matplotlib.pyplot as plt\n",
    "import plotly.graph_objects as go\n",
    "from pylab import rcParams\n",
    "import seaborn as sns \n",
    "\n",
    "plt.style.use('fivethirtyeight')\n",
    "\n",
    "import warnings\n",
    "warnings.filterwarnings(\"ignore\", category=np.VisibleDeprecationWarning) \n",
    "\n",
    "pd.options.mode.chained_assignment = None #https://pandas.pydata.org/pandas-docs/stable/user_guide/options.html"
   ]
  },
  {
   "cell_type": "code",
   "execution_count": 2,
   "metadata": {
    "executionInfo": {
     "elapsed": 9,
     "status": "ok",
     "timestamp": 1668861352651,
     "user": {
      "displayName": "Yohanees Hutagalung",
      "userId": "16601786204217273537"
     },
     "user_tz": -60
    },
    "id": "96c8cCXKkI4I"
   },
   "outputs": [],
   "source": [
    "# Define ticker of stock data\n",
    "ticker = 'SIDO' #2185x7"
   ]
  },
  {
   "cell_type": "markdown",
   "metadata": {
    "id": "VQ0_TV20Rgd9"
   },
   "source": [
    "# **Load Data**"
   ]
  },
  {
   "cell_type": "code",
   "execution_count": 3,
   "metadata": {},
   "outputs": [],
   "source": [
    "# Load data and conversion date \n",
    "df = pd.read_csv(f'C:/Users/Test/Downloads/Thesis/Dataset yahoo/{ticker}.csv')\n",
    "df['Date'] = pd.to_datetime(df['Date']) "
   ]
  },
  {
   "cell_type": "code",
   "execution_count": 4,
   "metadata": {},
   "outputs": [
    {
     "data": {
      "text/html": [
       "<div>\n",
       "<style scoped>\n",
       "    .dataframe tbody tr th:only-of-type {\n",
       "        vertical-align: middle;\n",
       "    }\n",
       "\n",
       "    .dataframe tbody tr th {\n",
       "        vertical-align: top;\n",
       "    }\n",
       "\n",
       "    .dataframe thead th {\n",
       "        text-align: right;\n",
       "    }\n",
       "</style>\n",
       "<table border=\"1\" class=\"dataframe\">\n",
       "  <thead>\n",
       "    <tr style=\"text-align: right;\">\n",
       "      <th></th>\n",
       "      <th>Date</th>\n",
       "      <th>Open</th>\n",
       "      <th>High</th>\n",
       "      <th>Low</th>\n",
       "      <th>Close</th>\n",
       "      <th>Adj Close</th>\n",
       "      <th>Volume</th>\n",
       "    </tr>\n",
       "  </thead>\n",
       "  <tbody>\n",
       "    <tr>\n",
       "      <th>0</th>\n",
       "      <td>2013-12-18</td>\n",
       "      <td>337.424103</td>\n",
       "      <td>357.272583</td>\n",
       "      <td>317.575623</td>\n",
       "      <td>347.348328</td>\n",
       "      <td>229.452393</td>\n",
       "      <td>726970648.0</td>\n",
       "    </tr>\n",
       "    <tr>\n",
       "      <th>1</th>\n",
       "      <td>2013-12-19</td>\n",
       "      <td>347.348328</td>\n",
       "      <td>357.272583</td>\n",
       "      <td>337.424103</td>\n",
       "      <td>342.386230</td>\n",
       "      <td>226.174515</td>\n",
       "      <td>204189976.0</td>\n",
       "    </tr>\n",
       "    <tr>\n",
       "      <th>2</th>\n",
       "      <td>2013-12-20</td>\n",
       "      <td>332.461975</td>\n",
       "      <td>347.348328</td>\n",
       "      <td>332.461975</td>\n",
       "      <td>342.386230</td>\n",
       "      <td>226.174515</td>\n",
       "      <td>55256633.0</td>\n",
       "    </tr>\n",
       "    <tr>\n",
       "      <th>3</th>\n",
       "      <td>2013-12-23</td>\n",
       "      <td>332.461975</td>\n",
       "      <td>342.386230</td>\n",
       "      <td>332.461975</td>\n",
       "      <td>342.386230</td>\n",
       "      <td>226.174515</td>\n",
       "      <td>85285134.0</td>\n",
       "    </tr>\n",
       "    <tr>\n",
       "      <th>4</th>\n",
       "      <td>2013-12-24</td>\n",
       "      <td>342.386230</td>\n",
       "      <td>347.348328</td>\n",
       "      <td>332.461975</td>\n",
       "      <td>337.424103</td>\n",
       "      <td>222.896637</td>\n",
       "      <td>71950105.0</td>\n",
       "    </tr>\n",
       "    <tr>\n",
       "      <th>...</th>\n",
       "      <td>...</td>\n",
       "      <td>...</td>\n",
       "      <td>...</td>\n",
       "      <td>...</td>\n",
       "      <td>...</td>\n",
       "      <td>...</td>\n",
       "      <td>...</td>\n",
       "    </tr>\n",
       "    <tr>\n",
       "      <th>2180</th>\n",
       "      <td>2022-09-26</td>\n",
       "      <td>720.000000</td>\n",
       "      <td>725.000000</td>\n",
       "      <td>710.000000</td>\n",
       "      <td>720.000000</td>\n",
       "      <td>720.000000</td>\n",
       "      <td>18423400.0</td>\n",
       "    </tr>\n",
       "    <tr>\n",
       "      <th>2181</th>\n",
       "      <td>2022-09-27</td>\n",
       "      <td>720.000000</td>\n",
       "      <td>720.000000</td>\n",
       "      <td>710.000000</td>\n",
       "      <td>715.000000</td>\n",
       "      <td>715.000000</td>\n",
       "      <td>12252800.0</td>\n",
       "    </tr>\n",
       "    <tr>\n",
       "      <th>2182</th>\n",
       "      <td>2022-09-28</td>\n",
       "      <td>715.000000</td>\n",
       "      <td>720.000000</td>\n",
       "      <td>710.000000</td>\n",
       "      <td>710.000000</td>\n",
       "      <td>710.000000</td>\n",
       "      <td>9788600.0</td>\n",
       "    </tr>\n",
       "    <tr>\n",
       "      <th>2183</th>\n",
       "      <td>2022-09-29</td>\n",
       "      <td>715.000000</td>\n",
       "      <td>715.000000</td>\n",
       "      <td>710.000000</td>\n",
       "      <td>715.000000</td>\n",
       "      <td>715.000000</td>\n",
       "      <td>16856300.0</td>\n",
       "    </tr>\n",
       "    <tr>\n",
       "      <th>2184</th>\n",
       "      <td>2022-09-30</td>\n",
       "      <td>715.000000</td>\n",
       "      <td>715.000000</td>\n",
       "      <td>700.000000</td>\n",
       "      <td>710.000000</td>\n",
       "      <td>710.000000</td>\n",
       "      <td>25830200.0</td>\n",
       "    </tr>\n",
       "  </tbody>\n",
       "</table>\n",
       "<p>2185 rows × 7 columns</p>\n",
       "</div>"
      ],
      "text/plain": [
       "           Date        Open        High         Low       Close   Adj Close  \\\n",
       "0    2013-12-18  337.424103  357.272583  317.575623  347.348328  229.452393   \n",
       "1    2013-12-19  347.348328  357.272583  337.424103  342.386230  226.174515   \n",
       "2    2013-12-20  332.461975  347.348328  332.461975  342.386230  226.174515   \n",
       "3    2013-12-23  332.461975  342.386230  332.461975  342.386230  226.174515   \n",
       "4    2013-12-24  342.386230  347.348328  332.461975  337.424103  222.896637   \n",
       "...         ...         ...         ...         ...         ...         ...   \n",
       "2180 2022-09-26  720.000000  725.000000  710.000000  720.000000  720.000000   \n",
       "2181 2022-09-27  720.000000  720.000000  710.000000  715.000000  715.000000   \n",
       "2182 2022-09-28  715.000000  720.000000  710.000000  710.000000  710.000000   \n",
       "2183 2022-09-29  715.000000  715.000000  710.000000  715.000000  715.000000   \n",
       "2184 2022-09-30  715.000000  715.000000  700.000000  710.000000  710.000000   \n",
       "\n",
       "           Volume  \n",
       "0     726970648.0  \n",
       "1     204189976.0  \n",
       "2      55256633.0  \n",
       "3      85285134.0  \n",
       "4      71950105.0  \n",
       "...           ...  \n",
       "2180   18423400.0  \n",
       "2181   12252800.0  \n",
       "2182    9788600.0  \n",
       "2183   16856300.0  \n",
       "2184   25830200.0  \n",
       "\n",
       "[2185 rows x 7 columns]"
      ]
     },
     "execution_count": 4,
     "metadata": {},
     "output_type": "execute_result"
    }
   ],
   "source": [
    "df"
   ]
  },
  {
   "cell_type": "code",
   "execution_count": 5,
   "metadata": {},
   "outputs": [
    {
     "data": {
      "text/plain": [
       "True"
      ]
     },
     "execution_count": 5,
     "metadata": {},
     "output_type": "execute_result"
    }
   ],
   "source": [
    "df.isnull().values.any() #Check NaN"
   ]
  },
  {
   "cell_type": "code",
   "execution_count": 6,
   "metadata": {},
   "outputs": [
    {
     "data": {
      "text/plain": [
       "Date         0\n",
       "Open         8\n",
       "High         8\n",
       "Low          8\n",
       "Close        8\n",
       "Adj Close    8\n",
       "Volume       8\n",
       "dtype: int64"
      ]
     },
     "execution_count": 6,
     "metadata": {},
     "output_type": "execute_result"
    }
   ],
   "source": [
    "df.isnull().sum() #8 rows NaN"
   ]
  },
  {
   "cell_type": "code",
   "execution_count": 7,
   "metadata": {},
   "outputs": [
    {
     "data": {
      "text/plain": [
       "Open         0.999140\n",
       "High         0.999484\n",
       "Low          0.999411\n",
       "Close        1.000000\n",
       "Adj Close    0.995366\n",
       "Volume       0.133777\n",
       "Name: Close, dtype: float64"
      ]
     },
     "execution_count": 7,
     "metadata": {},
     "output_type": "execute_result"
    }
   ],
   "source": [
    "df.corr()['Close']"
   ]
  },
  {
   "cell_type": "code",
   "execution_count": 8,
   "metadata": {
    "colab": {
     "base_uri": "https://localhost:8080/",
     "height": 424
    },
    "executionInfo": {
     "elapsed": 373,
     "status": "ok",
     "timestamp": 1668861353017,
     "user": {
      "displayName": "Yohanees Hutagalung",
      "userId": "16601786204217273537"
     },
     "user_tz": -60
    },
    "id": "4CA_DfLaP48l",
    "outputId": "d35c5b74-a87e-4866-eda1-0c39a88e9e39"
   },
   "outputs": [
    {
     "data": {
      "text/html": [
       "<div>\n",
       "<style scoped>\n",
       "    .dataframe tbody tr th:only-of-type {\n",
       "        vertical-align: middle;\n",
       "    }\n",
       "\n",
       "    .dataframe tbody tr th {\n",
       "        vertical-align: top;\n",
       "    }\n",
       "\n",
       "    .dataframe thead th {\n",
       "        text-align: right;\n",
       "    }\n",
       "</style>\n",
       "<table border=\"1\" class=\"dataframe\">\n",
       "  <thead>\n",
       "    <tr style=\"text-align: right;\">\n",
       "      <th></th>\n",
       "      <th>Date</th>\n",
       "      <th>Open</th>\n",
       "      <th>High</th>\n",
       "      <th>Low</th>\n",
       "      <th>Close</th>\n",
       "      <th>Adj Close</th>\n",
       "      <th>Volume</th>\n",
       "    </tr>\n",
       "  </thead>\n",
       "  <tbody>\n",
       "    <tr>\n",
       "      <th>0</th>\n",
       "      <td>2013-12-18</td>\n",
       "      <td>337.424103</td>\n",
       "      <td>357.272583</td>\n",
       "      <td>317.575623</td>\n",
       "      <td>347.348328</td>\n",
       "      <td>229.452393</td>\n",
       "      <td>726970648.0</td>\n",
       "    </tr>\n",
       "    <tr>\n",
       "      <th>1</th>\n",
       "      <td>2013-12-19</td>\n",
       "      <td>347.348328</td>\n",
       "      <td>357.272583</td>\n",
       "      <td>337.424103</td>\n",
       "      <td>342.386230</td>\n",
       "      <td>226.174515</td>\n",
       "      <td>204189976.0</td>\n",
       "    </tr>\n",
       "    <tr>\n",
       "      <th>2</th>\n",
       "      <td>2013-12-20</td>\n",
       "      <td>332.461975</td>\n",
       "      <td>347.348328</td>\n",
       "      <td>332.461975</td>\n",
       "      <td>342.386230</td>\n",
       "      <td>226.174515</td>\n",
       "      <td>55256633.0</td>\n",
       "    </tr>\n",
       "    <tr>\n",
       "      <th>3</th>\n",
       "      <td>2013-12-23</td>\n",
       "      <td>332.461975</td>\n",
       "      <td>342.386230</td>\n",
       "      <td>332.461975</td>\n",
       "      <td>342.386230</td>\n",
       "      <td>226.174515</td>\n",
       "      <td>85285134.0</td>\n",
       "    </tr>\n",
       "    <tr>\n",
       "      <th>4</th>\n",
       "      <td>2013-12-24</td>\n",
       "      <td>342.386230</td>\n",
       "      <td>347.348328</td>\n",
       "      <td>332.461975</td>\n",
       "      <td>337.424103</td>\n",
       "      <td>222.896637</td>\n",
       "      <td>71950105.0</td>\n",
       "    </tr>\n",
       "    <tr>\n",
       "      <th>...</th>\n",
       "      <td>...</td>\n",
       "      <td>...</td>\n",
       "      <td>...</td>\n",
       "      <td>...</td>\n",
       "      <td>...</td>\n",
       "      <td>...</td>\n",
       "      <td>...</td>\n",
       "    </tr>\n",
       "    <tr>\n",
       "      <th>2180</th>\n",
       "      <td>2022-09-26</td>\n",
       "      <td>720.000000</td>\n",
       "      <td>725.000000</td>\n",
       "      <td>710.000000</td>\n",
       "      <td>720.000000</td>\n",
       "      <td>720.000000</td>\n",
       "      <td>18423400.0</td>\n",
       "    </tr>\n",
       "    <tr>\n",
       "      <th>2181</th>\n",
       "      <td>2022-09-27</td>\n",
       "      <td>720.000000</td>\n",
       "      <td>720.000000</td>\n",
       "      <td>710.000000</td>\n",
       "      <td>715.000000</td>\n",
       "      <td>715.000000</td>\n",
       "      <td>12252800.0</td>\n",
       "    </tr>\n",
       "    <tr>\n",
       "      <th>2182</th>\n",
       "      <td>2022-09-28</td>\n",
       "      <td>715.000000</td>\n",
       "      <td>720.000000</td>\n",
       "      <td>710.000000</td>\n",
       "      <td>710.000000</td>\n",
       "      <td>710.000000</td>\n",
       "      <td>9788600.0</td>\n",
       "    </tr>\n",
       "    <tr>\n",
       "      <th>2183</th>\n",
       "      <td>2022-09-29</td>\n",
       "      <td>715.000000</td>\n",
       "      <td>715.000000</td>\n",
       "      <td>710.000000</td>\n",
       "      <td>715.000000</td>\n",
       "      <td>715.000000</td>\n",
       "      <td>16856300.0</td>\n",
       "    </tr>\n",
       "    <tr>\n",
       "      <th>2184</th>\n",
       "      <td>2022-09-30</td>\n",
       "      <td>715.000000</td>\n",
       "      <td>715.000000</td>\n",
       "      <td>700.000000</td>\n",
       "      <td>710.000000</td>\n",
       "      <td>710.000000</td>\n",
       "      <td>25830200.0</td>\n",
       "    </tr>\n",
       "  </tbody>\n",
       "</table>\n",
       "<p>2177 rows × 7 columns</p>\n",
       "</div>"
      ],
      "text/plain": [
       "           Date        Open        High         Low       Close   Adj Close  \\\n",
       "0    2013-12-18  337.424103  357.272583  317.575623  347.348328  229.452393   \n",
       "1    2013-12-19  347.348328  357.272583  337.424103  342.386230  226.174515   \n",
       "2    2013-12-20  332.461975  347.348328  332.461975  342.386230  226.174515   \n",
       "3    2013-12-23  332.461975  342.386230  332.461975  342.386230  226.174515   \n",
       "4    2013-12-24  342.386230  347.348328  332.461975  337.424103  222.896637   \n",
       "...         ...         ...         ...         ...         ...         ...   \n",
       "2180 2022-09-26  720.000000  725.000000  710.000000  720.000000  720.000000   \n",
       "2181 2022-09-27  720.000000  720.000000  710.000000  715.000000  715.000000   \n",
       "2182 2022-09-28  715.000000  720.000000  710.000000  710.000000  710.000000   \n",
       "2183 2022-09-29  715.000000  715.000000  710.000000  715.000000  715.000000   \n",
       "2184 2022-09-30  715.000000  715.000000  700.000000  710.000000  710.000000   \n",
       "\n",
       "           Volume  \n",
       "0     726970648.0  \n",
       "1     204189976.0  \n",
       "2      55256633.0  \n",
       "3      85285134.0  \n",
       "4      71950105.0  \n",
       "...           ...  \n",
       "2180   18423400.0  \n",
       "2181   12252800.0  \n",
       "2182    9788600.0  \n",
       "2183   16856300.0  \n",
       "2184   25830200.0  \n",
       "\n",
       "[2177 rows x 7 columns]"
      ]
     },
     "execution_count": 8,
     "metadata": {},
     "output_type": "execute_result"
    }
   ],
   "source": [
    "# Drop NaN Values\n",
    "df = df.dropna() # Drop menghindari missing values\n",
    "df #2185-7 = 2177"
   ]
  },
  {
   "cell_type": "code",
   "execution_count": 9,
   "metadata": {
    "colab": {
     "base_uri": "https://localhost:8080/"
    },
    "executionInfo": {
     "elapsed": 17,
     "status": "ok",
     "timestamp": 1668861353018,
     "user": {
      "displayName": "Yohanees Hutagalung",
      "userId": "16601786204217273537"
     },
     "user_tz": -60
    },
    "id": "w76IP059P48m",
    "outputId": "1af9528f-d076-4a36-8076-11c34d623265"
   },
   "outputs": [
    {
     "name": "stdout",
     "output_type": "stream",
     "text": [
      "2013-12-18 00:00:00 until 2022-09-30 00:00:00.\n"
     ]
    }
   ],
   "source": [
    "# Look START and END date of stock price data\n",
    "start_from = np.min(df['Date'])\n",
    "end = np.max(df['Date'])\n",
    "print(f'{start_from} until {end}.')"
   ]
  },
  {
   "cell_type": "code",
   "execution_count": 10,
   "metadata": {},
   "outputs": [
    {
     "data": {
      "text/plain": [
       "Open         0.999140\n",
       "High         0.999484\n",
       "Low          0.999411\n",
       "Close        1.000000\n",
       "Adj Close    0.995366\n",
       "Volume       0.133777\n",
       "Name: Close, dtype: float64"
      ]
     },
     "execution_count": 10,
     "metadata": {},
     "output_type": "execute_result"
    }
   ],
   "source": [
    "df.corr()['Close'] #After Drop NaN, number same as before"
   ]
  },
  {
   "cell_type": "code",
   "execution_count": 11,
   "metadata": {},
   "outputs": [
    {
     "data": {
      "image/png": "[encoded data removed]",
      "text/plain": [
       "<Figure size 500x400 with 2 Axes>"
      ]
     },
     "metadata": {},
     "output_type": "display_data"
    }
   ],
   "source": [
    "plt.figure(figsize=(5,4))\n",
    "sns.heatmap(df.corr(), annot=True)\n",
    "plt.title('Correlation Heatmap OHLC') \n",
    "plt.show()  #Drop AdjClose and Volume"
   ]
  },
  {
   "cell_type": "code",
   "execution_count": 12,
   "metadata": {},
   "outputs": [
    {
     "data": {
      "text/html": [
       "<div>\n",
       "<style scoped>\n",
       "    .dataframe tbody tr th:only-of-type {\n",
       "        vertical-align: middle;\n",
       "    }\n",
       "\n",
       "    .dataframe tbody tr th {\n",
       "        vertical-align: top;\n",
       "    }\n",
       "\n",
       "    .dataframe thead th {\n",
       "        text-align: right;\n",
       "    }\n",
       "</style>\n",
       "<table border=\"1\" class=\"dataframe\">\n",
       "  <thead>\n",
       "    <tr style=\"text-align: right;\">\n",
       "      <th></th>\n",
       "      <th>Date</th>\n",
       "      <th>Open</th>\n",
       "      <th>High</th>\n",
       "      <th>Low</th>\n",
       "      <th>Adj Close</th>\n",
       "      <th>ClosePrice</th>\n",
       "    </tr>\n",
       "  </thead>\n",
       "  <tbody>\n",
       "    <tr>\n",
       "      <th>0</th>\n",
       "      <td>2013-12-18</td>\n",
       "      <td>337.424103</td>\n",
       "      <td>357.272583</td>\n",
       "      <td>317.575623</td>\n",
       "      <td>229.452393</td>\n",
       "      <td>347.348328</td>\n",
       "    </tr>\n",
       "    <tr>\n",
       "      <th>1</th>\n",
       "      <td>2013-12-19</td>\n",
       "      <td>347.348328</td>\n",
       "      <td>357.272583</td>\n",
       "      <td>337.424103</td>\n",
       "      <td>226.174515</td>\n",
       "      <td>342.386230</td>\n",
       "    </tr>\n",
       "    <tr>\n",
       "      <th>2</th>\n",
       "      <td>2013-12-20</td>\n",
       "      <td>332.461975</td>\n",
       "      <td>347.348328</td>\n",
       "      <td>332.461975</td>\n",
       "      <td>226.174515</td>\n",
       "      <td>342.386230</td>\n",
       "    </tr>\n",
       "    <tr>\n",
       "      <th>3</th>\n",
       "      <td>2013-12-23</td>\n",
       "      <td>332.461975</td>\n",
       "      <td>342.386230</td>\n",
       "      <td>332.461975</td>\n",
       "      <td>226.174515</td>\n",
       "      <td>342.386230</td>\n",
       "    </tr>\n",
       "    <tr>\n",
       "      <th>4</th>\n",
       "      <td>2013-12-24</td>\n",
       "      <td>342.386230</td>\n",
       "      <td>347.348328</td>\n",
       "      <td>332.461975</td>\n",
       "      <td>222.896637</td>\n",
       "      <td>337.424103</td>\n",
       "    </tr>\n",
       "    <tr>\n",
       "      <th>...</th>\n",
       "      <td>...</td>\n",
       "      <td>...</td>\n",
       "      <td>...</td>\n",
       "      <td>...</td>\n",
       "      <td>...</td>\n",
       "      <td>...</td>\n",
       "    </tr>\n",
       "    <tr>\n",
       "      <th>2180</th>\n",
       "      <td>2022-09-26</td>\n",
       "      <td>720.000000</td>\n",
       "      <td>725.000000</td>\n",
       "      <td>710.000000</td>\n",
       "      <td>720.000000</td>\n",
       "      <td>720.000000</td>\n",
       "    </tr>\n",
       "    <tr>\n",
       "      <th>2181</th>\n",
       "      <td>2022-09-27</td>\n",
       "      <td>720.000000</td>\n",
       "      <td>720.000000</td>\n",
       "      <td>710.000000</td>\n",
       "      <td>715.000000</td>\n",
       "      <td>715.000000</td>\n",
       "    </tr>\n",
       "    <tr>\n",
       "      <th>2182</th>\n",
       "      <td>2022-09-28</td>\n",
       "      <td>715.000000</td>\n",
       "      <td>720.000000</td>\n",
       "      <td>710.000000</td>\n",
       "      <td>710.000000</td>\n",
       "      <td>710.000000</td>\n",
       "    </tr>\n",
       "    <tr>\n",
       "      <th>2183</th>\n",
       "      <td>2022-09-29</td>\n",
       "      <td>715.000000</td>\n",
       "      <td>715.000000</td>\n",
       "      <td>710.000000</td>\n",
       "      <td>715.000000</td>\n",
       "      <td>715.000000</td>\n",
       "    </tr>\n",
       "    <tr>\n",
       "      <th>2184</th>\n",
       "      <td>2022-09-30</td>\n",
       "      <td>715.000000</td>\n",
       "      <td>715.000000</td>\n",
       "      <td>700.000000</td>\n",
       "      <td>710.000000</td>\n",
       "      <td>710.000000</td>\n",
       "    </tr>\n",
       "  </tbody>\n",
       "</table>\n",
       "<p>2177 rows × 6 columns</p>\n",
       "</div>"
      ],
      "text/plain": [
       "           Date        Open        High         Low   Adj Close  ClosePrice\n",
       "0    2013-12-18  337.424103  357.272583  317.575623  229.452393  347.348328\n",
       "1    2013-12-19  347.348328  357.272583  337.424103  226.174515  342.386230\n",
       "2    2013-12-20  332.461975  347.348328  332.461975  226.174515  342.386230\n",
       "3    2013-12-23  332.461975  342.386230  332.461975  226.174515  342.386230\n",
       "4    2013-12-24  342.386230  347.348328  332.461975  222.896637  337.424103\n",
       "...         ...         ...         ...         ...         ...         ...\n",
       "2180 2022-09-26  720.000000  725.000000  710.000000  720.000000  720.000000\n",
       "2181 2022-09-27  720.000000  720.000000  710.000000  715.000000  715.000000\n",
       "2182 2022-09-28  715.000000  720.000000  710.000000  710.000000  710.000000\n",
       "2183 2022-09-29  715.000000  715.000000  710.000000  715.000000  715.000000\n",
       "2184 2022-09-30  715.000000  715.000000  700.000000  710.000000  710.000000\n",
       "\n",
       "[2177 rows x 6 columns]"
      ]
     },
     "execution_count": 12,
     "metadata": {},
     "output_type": "execute_result"
    }
   ],
   "source": [
    "ClosePrice = df['Close']\n",
    "df = df.drop(['Close','Volume'],axis = 1)\n",
    "df['ClosePrice'] = ClosePrice #CLose Price index = -1\n",
    "df"
   ]
  },
  {
   "cell_type": "code",
   "execution_count": 13,
   "metadata": {},
   "outputs": [],
   "source": [
    "df = df.set_index('Date') #Datetime as index"
   ]
  },
  {
   "cell_type": "code",
   "execution_count": 14,
   "metadata": {},
   "outputs": [
    {
     "data": {
      "text/html": [
       "<div>\n",
       "<style scoped>\n",
       "    .dataframe tbody tr th:only-of-type {\n",
       "        vertical-align: middle;\n",
       "    }\n",
       "\n",
       "    .dataframe tbody tr th {\n",
       "        vertical-align: top;\n",
       "    }\n",
       "\n",
       "    .dataframe thead th {\n",
       "        text-align: right;\n",
       "    }\n",
       "</style>\n",
       "<table border=\"1\" class=\"dataframe\">\n",
       "  <thead>\n",
       "    <tr style=\"text-align: right;\">\n",
       "      <th></th>\n",
       "      <th>Open</th>\n",
       "      <th>High</th>\n",
       "      <th>Low</th>\n",
       "      <th>Adj Close</th>\n",
       "      <th>ClosePrice</th>\n",
       "    </tr>\n",
       "    <tr>\n",
       "      <th>Date</th>\n",
       "      <th></th>\n",
       "      <th></th>\n",
       "      <th></th>\n",
       "      <th></th>\n",
       "      <th></th>\n",
       "    </tr>\n",
       "  </thead>\n",
       "  <tbody>\n",
       "    <tr>\n",
       "      <th>2013-12-18</th>\n",
       "      <td>337.424103</td>\n",
       "      <td>357.272583</td>\n",
       "      <td>317.575623</td>\n",
       "      <td>229.452393</td>\n",
       "      <td>347.348328</td>\n",
       "    </tr>\n",
       "    <tr>\n",
       "      <th>2013-12-19</th>\n",
       "      <td>347.348328</td>\n",
       "      <td>357.272583</td>\n",
       "      <td>337.424103</td>\n",
       "      <td>226.174515</td>\n",
       "      <td>342.386230</td>\n",
       "    </tr>\n",
       "    <tr>\n",
       "      <th>2013-12-20</th>\n",
       "      <td>332.461975</td>\n",
       "      <td>347.348328</td>\n",
       "      <td>332.461975</td>\n",
       "      <td>226.174515</td>\n",
       "      <td>342.386230</td>\n",
       "    </tr>\n",
       "    <tr>\n",
       "      <th>2013-12-23</th>\n",
       "      <td>332.461975</td>\n",
       "      <td>342.386230</td>\n",
       "      <td>332.461975</td>\n",
       "      <td>226.174515</td>\n",
       "      <td>342.386230</td>\n",
       "    </tr>\n",
       "    <tr>\n",
       "      <th>2013-12-24</th>\n",
       "      <td>342.386230</td>\n",
       "      <td>347.348328</td>\n",
       "      <td>332.461975</td>\n",
       "      <td>222.896637</td>\n",
       "      <td>337.424103</td>\n",
       "    </tr>\n",
       "    <tr>\n",
       "      <th>...</th>\n",
       "      <td>...</td>\n",
       "      <td>...</td>\n",
       "      <td>...</td>\n",
       "      <td>...</td>\n",
       "      <td>...</td>\n",
       "    </tr>\n",
       "    <tr>\n",
       "      <th>2022-09-26</th>\n",
       "      <td>720.000000</td>\n",
       "      <td>725.000000</td>\n",
       "      <td>710.000000</td>\n",
       "      <td>720.000000</td>\n",
       "      <td>720.000000</td>\n",
       "    </tr>\n",
       "    <tr>\n",
       "      <th>2022-09-27</th>\n",
       "      <td>720.000000</td>\n",
       "      <td>720.000000</td>\n",
       "      <td>710.000000</td>\n",
       "      <td>715.000000</td>\n",
       "      <td>715.000000</td>\n",
       "    </tr>\n",
       "    <tr>\n",
       "      <th>2022-09-28</th>\n",
       "      <td>715.000000</td>\n",
       "      <td>720.000000</td>\n",
       "      <td>710.000000</td>\n",
       "      <td>710.000000</td>\n",
       "      <td>710.000000</td>\n",
       "    </tr>\n",
       "    <tr>\n",
       "      <th>2022-09-29</th>\n",
       "      <td>715.000000</td>\n",
       "      <td>715.000000</td>\n",
       "      <td>710.000000</td>\n",
       "      <td>715.000000</td>\n",
       "      <td>715.000000</td>\n",
       "    </tr>\n",
       "    <tr>\n",
       "      <th>2022-09-30</th>\n",
       "      <td>715.000000</td>\n",
       "      <td>715.000000</td>\n",
       "      <td>700.000000</td>\n",
       "      <td>710.000000</td>\n",
       "      <td>710.000000</td>\n",
       "    </tr>\n",
       "  </tbody>\n",
       "</table>\n",
       "<p>2177 rows × 5 columns</p>\n",
       "</div>"
      ],
      "text/plain": [
       "                  Open        High         Low   Adj Close  ClosePrice\n",
       "Date                                                                  \n",
       "2013-12-18  337.424103  357.272583  317.575623  229.452393  347.348328\n",
       "2013-12-19  347.348328  357.272583  337.424103  226.174515  342.386230\n",
       "2013-12-20  332.461975  347.348328  332.461975  226.174515  342.386230\n",
       "2013-12-23  332.461975  342.386230  332.461975  226.174515  342.386230\n",
       "2013-12-24  342.386230  347.348328  332.461975  222.896637  337.424103\n",
       "...                ...         ...         ...         ...         ...\n",
       "2022-09-26  720.000000  725.000000  710.000000  720.000000  720.000000\n",
       "2022-09-27  720.000000  720.000000  710.000000  715.000000  715.000000\n",
       "2022-09-28  715.000000  720.000000  710.000000  710.000000  710.000000\n",
       "2022-09-29  715.000000  715.000000  710.000000  715.000000  715.000000\n",
       "2022-09-30  715.000000  715.000000  700.000000  710.000000  710.000000\n",
       "\n",
       "[2177 rows x 5 columns]"
      ]
     },
     "execution_count": 14,
     "metadata": {},
     "output_type": "execute_result"
    }
   ],
   "source": [
    "df #from 2177 x 6 to 2177x5"
   ]
  },
  {
   "cell_type": "code",
   "execution_count": 15,
   "metadata": {},
   "outputs": [
    {
     "data": {
      "image/png": "[encoded data removed]",
      "text/plain": [
       "<Figure size 640x480 with 1 Axes>"
      ]
     },
     "metadata": {},
     "output_type": "display_data"
    }
   ],
   "source": [
    "import matplotlib.pyplot as plt\n",
    "plt.scatter(df['Open'], df['ClosePrice'])\n",
    "plt.xlabel ('Open Price')\n",
    "plt.ylabel ('Close Price')\n",
    "plt.show()"
   ]
  },
  {
   "cell_type": "code",
   "execution_count": 16,
   "metadata": {},
   "outputs": [
    {
     "data": {
      "image/png": "[encoded data removed]",
      "text/plain": [
       "<Figure size 640x480 with 1 Axes>"
      ]
     },
     "metadata": {},
     "output_type": "display_data"
    }
   ],
   "source": [
    "import matplotlib.pyplot as plt\n",
    "plt.scatter(df['High'], df['ClosePrice'])\n",
    "plt.xlabel ('High Price')\n",
    "plt.ylabel ('Close Price')\n",
    "plt.show()"
   ]
  },
  {
   "cell_type": "code",
   "execution_count": 17,
   "metadata": {},
   "outputs": [
    {
     "data": {
      "image/png": "[encoded data removed]",
      "text/plain": [
       "<Figure size 640x480 with 1 Axes>"
      ]
     },
     "metadata": {},
     "output_type": "display_data"
    }
   ],
   "source": [
    "import matplotlib.pyplot as plt\n",
    "plt.scatter(df['Low'], df['ClosePrice'])\n",
    "plt.xlabel ('Low Price')\n",
    "plt.ylabel ('Close Price')\n",
    "plt.show()"
   ]
  },
  {
   "cell_type": "code",
   "execution_count": 18,
   "metadata": {},
   "outputs": [
    {
     "data": {
      "image/png": "[encoded data removed]",
      "text/plain": [
       "<Figure size 640x480 with 1 Axes>"
      ]
     },
     "metadata": {},
     "output_type": "display_data"
    }
   ],
   "source": [
    "import matplotlib.pyplot as plt\n",
    "plt.scatter(df['Adj Close'], df['ClosePrice'])\n",
    "plt.xlabel ('Adj Close Price')\n",
    "plt.ylabel ('Close Price')\n",
    "plt.show()"
   ]
  },
  {
   "cell_type": "code",
   "execution_count": 19,
   "metadata": {},
   "outputs": [
    {
     "data": {
      "text/plain": [
       "(2177, 5)"
      ]
     },
     "execution_count": 19,
     "metadata": {},
     "output_type": "execute_result"
    }
   ],
   "source": [
    "df_np = df.to_numpy()\n",
    "df_np.shape"
   ]
  },
  {
   "cell_type": "code",
   "execution_count": 20,
   "metadata": {},
   "outputs": [
    {
     "data": {
      "text/plain": [
       "(2177, 5)"
      ]
     },
     "execution_count": 20,
     "metadata": {},
     "output_type": "execute_result"
    }
   ],
   "source": [
    "df.shape"
   ]
  },
  {
   "cell_type": "code",
   "execution_count": 21,
   "metadata": {},
   "outputs": [
    {
     "data": {
      "text/plain": [
       "((2177, 4), (2177,))"
      ]
     },
     "execution_count": 21,
     "metadata": {},
     "output_type": "execute_result"
    }
   ],
   "source": [
    "X_train = df.iloc[: , :4] # X for all rows, and from [0] columns - exclude to [4] columns (Open,High,Low,Close,Adj Close)\n",
    "y_train = df.iloc[:,-1] # Close price -1 index\n",
    "X_train.shape, y_train.shape"
   ]
  },
  {
   "cell_type": "code",
   "execution_count": 22,
   "metadata": {},
   "outputs": [],
   "source": [
    "#X_train, y_train = df_np[: , :5], df_np[:,-1]    #X for all rows, and from 1st columns - exclude to 6th columns & y Close price -1 index\n",
    "#X_train.shape, y_train.shape"
   ]
  },
  {
   "cell_type": "code",
   "execution_count": 23,
   "metadata": {},
   "outputs": [
    {
     "data": {
      "text/html": [
       "<div>\n",
       "<style scoped>\n",
       "    .dataframe tbody tr th:only-of-type {\n",
       "        vertical-align: middle;\n",
       "    }\n",
       "\n",
       "    .dataframe tbody tr th {\n",
       "        vertical-align: top;\n",
       "    }\n",
       "\n",
       "    .dataframe thead th {\n",
       "        text-align: right;\n",
       "    }\n",
       "</style>\n",
       "<table border=\"1\" class=\"dataframe\">\n",
       "  <thead>\n",
       "    <tr style=\"text-align: right;\">\n",
       "      <th></th>\n",
       "      <th>Open</th>\n",
       "      <th>High</th>\n",
       "      <th>Low</th>\n",
       "      <th>Adj Close</th>\n",
       "    </tr>\n",
       "    <tr>\n",
       "      <th>Date</th>\n",
       "      <th></th>\n",
       "      <th></th>\n",
       "      <th></th>\n",
       "      <th></th>\n",
       "    </tr>\n",
       "  </thead>\n",
       "  <tbody>\n",
       "    <tr>\n",
       "      <th>2013-12-18</th>\n",
       "      <td>337.424103</td>\n",
       "      <td>357.272583</td>\n",
       "      <td>317.575623</td>\n",
       "      <td>229.452393</td>\n",
       "    </tr>\n",
       "    <tr>\n",
       "      <th>2013-12-19</th>\n",
       "      <td>347.348328</td>\n",
       "      <td>357.272583</td>\n",
       "      <td>337.424103</td>\n",
       "      <td>226.174515</td>\n",
       "    </tr>\n",
       "    <tr>\n",
       "      <th>2013-12-20</th>\n",
       "      <td>332.461975</td>\n",
       "      <td>347.348328</td>\n",
       "      <td>332.461975</td>\n",
       "      <td>226.174515</td>\n",
       "    </tr>\n",
       "    <tr>\n",
       "      <th>2013-12-23</th>\n",
       "      <td>332.461975</td>\n",
       "      <td>342.386230</td>\n",
       "      <td>332.461975</td>\n",
       "      <td>226.174515</td>\n",
       "    </tr>\n",
       "    <tr>\n",
       "      <th>2013-12-24</th>\n",
       "      <td>342.386230</td>\n",
       "      <td>347.348328</td>\n",
       "      <td>332.461975</td>\n",
       "      <td>222.896637</td>\n",
       "    </tr>\n",
       "    <tr>\n",
       "      <th>...</th>\n",
       "      <td>...</td>\n",
       "      <td>...</td>\n",
       "      <td>...</td>\n",
       "      <td>...</td>\n",
       "    </tr>\n",
       "    <tr>\n",
       "      <th>2022-09-26</th>\n",
       "      <td>720.000000</td>\n",
       "      <td>725.000000</td>\n",
       "      <td>710.000000</td>\n",
       "      <td>720.000000</td>\n",
       "    </tr>\n",
       "    <tr>\n",
       "      <th>2022-09-27</th>\n",
       "      <td>720.000000</td>\n",
       "      <td>720.000000</td>\n",
       "      <td>710.000000</td>\n",
       "      <td>715.000000</td>\n",
       "    </tr>\n",
       "    <tr>\n",
       "      <th>2022-09-28</th>\n",
       "      <td>715.000000</td>\n",
       "      <td>720.000000</td>\n",
       "      <td>710.000000</td>\n",
       "      <td>710.000000</td>\n",
       "    </tr>\n",
       "    <tr>\n",
       "      <th>2022-09-29</th>\n",
       "      <td>715.000000</td>\n",
       "      <td>715.000000</td>\n",
       "      <td>710.000000</td>\n",
       "      <td>715.000000</td>\n",
       "    </tr>\n",
       "    <tr>\n",
       "      <th>2022-09-30</th>\n",
       "      <td>715.000000</td>\n",
       "      <td>715.000000</td>\n",
       "      <td>700.000000</td>\n",
       "      <td>710.000000</td>\n",
       "    </tr>\n",
       "  </tbody>\n",
       "</table>\n",
       "<p>2177 rows × 4 columns</p>\n",
       "</div>"
      ],
      "text/plain": [
       "                  Open        High         Low   Adj Close\n",
       "Date                                                      \n",
       "2013-12-18  337.424103  357.272583  317.575623  229.452393\n",
       "2013-12-19  347.348328  357.272583  337.424103  226.174515\n",
       "2013-12-20  332.461975  347.348328  332.461975  226.174515\n",
       "2013-12-23  332.461975  342.386230  332.461975  226.174515\n",
       "2013-12-24  342.386230  347.348328  332.461975  222.896637\n",
       "...                ...         ...         ...         ...\n",
       "2022-09-26  720.000000  725.000000  710.000000  720.000000\n",
       "2022-09-27  720.000000  720.000000  710.000000  715.000000\n",
       "2022-09-28  715.000000  720.000000  710.000000  710.000000\n",
       "2022-09-29  715.000000  715.000000  710.000000  715.000000\n",
       "2022-09-30  715.000000  715.000000  700.000000  710.000000\n",
       "\n",
       "[2177 rows x 4 columns]"
      ]
     },
     "execution_count": 23,
     "metadata": {},
     "output_type": "execute_result"
    }
   ],
   "source": [
    "X_train # X for all rows, and from [0] columns - exclude to [4] columns (Open,High,Low,Close,Adj Close)"
   ]
  },
  {
   "cell_type": "code",
   "execution_count": 24,
   "metadata": {},
   "outputs": [],
   "source": [
    "from sklearn.linear_model import LinearRegression"
   ]
  },
  {
   "cell_type": "code",
   "execution_count": 25,
   "metadata": {},
   "outputs": [
    {
     "data": {
      "text/plain": [
       "(2177,)"
      ]
     },
     "execution_count": 25,
     "metadata": {},
     "output_type": "execute_result"
    }
   ],
   "source": [
    "sklearn_model = LinearRegression().fit(X_train,y_train)\n",
    "sklearn_y_prediction = sklearn_model.predict(X_train)   #to find intercept,ß1, ß2, ß3\n",
    "sklearn_y_prediction.shape"
   ]
  },
  {
   "cell_type": "code",
   "execution_count": 26,
   "metadata": {},
   "outputs": [
    {
     "data": {
      "text/plain": [
       "(3.725964120354207, 29.926773745850557)"
      ]
     },
     "execution_count": 26,
     "metadata": {},
     "output_type": "execute_result"
    }
   ],
   "source": [
    "from sklearn.metrics import mean_absolute_error, mean_squared_error\n",
    "\n",
    "mean_absolute_error(sklearn_y_prediction,y_train),mean_squared_error(sklearn_y_prediction,y_train)"
   ]
  },
  {
   "cell_type": "code",
   "execution_count": 27,
   "metadata": {},
   "outputs": [
    {
     "data": {
      "text/html": [
       "<div>\n",
       "<style scoped>\n",
       "    .dataframe tbody tr th:only-of-type {\n",
       "        vertical-align: middle;\n",
       "    }\n",
       "\n",
       "    .dataframe tbody tr th {\n",
       "        vertical-align: top;\n",
       "    }\n",
       "\n",
       "    .dataframe thead th {\n",
       "        text-align: right;\n",
       "    }\n",
       "</style>\n",
       "<table border=\"1\" class=\"dataframe\">\n",
       "  <thead>\n",
       "    <tr style=\"text-align: right;\">\n",
       "      <th></th>\n",
       "      <th>Open</th>\n",
       "      <th>High</th>\n",
       "      <th>Low</th>\n",
       "      <th>Adj Close</th>\n",
       "      <th>Actual Close Price</th>\n",
       "      <th>Predicted Close Price</th>\n",
       "    </tr>\n",
       "    <tr>\n",
       "      <th>Date</th>\n",
       "      <th></th>\n",
       "      <th></th>\n",
       "      <th></th>\n",
       "      <th></th>\n",
       "      <th></th>\n",
       "      <th></th>\n",
       "    </tr>\n",
       "  </thead>\n",
       "  <tbody>\n",
       "    <tr>\n",
       "      <th>2013-12-18</th>\n",
       "      <td>337.424103</td>\n",
       "      <td>357.272583</td>\n",
       "      <td>317.575623</td>\n",
       "      <td>229.452393</td>\n",
       "      <td>347.348328</td>\n",
       "      <td>336.343744</td>\n",
       "    </tr>\n",
       "    <tr>\n",
       "      <th>2013-12-19</th>\n",
       "      <td>347.348328</td>\n",
       "      <td>357.272583</td>\n",
       "      <td>337.424103</td>\n",
       "      <td>226.174515</td>\n",
       "      <td>342.386230</td>\n",
       "      <td>345.189616</td>\n",
       "    </tr>\n",
       "    <tr>\n",
       "      <th>2013-12-20</th>\n",
       "      <td>332.461975</td>\n",
       "      <td>347.348328</td>\n",
       "      <td>332.461975</td>\n",
       "      <td>226.174515</td>\n",
       "      <td>342.386230</td>\n",
       "      <td>339.730185</td>\n",
       "    </tr>\n",
       "    <tr>\n",
       "      <th>2013-12-23</th>\n",
       "      <td>332.461975</td>\n",
       "      <td>342.386230</td>\n",
       "      <td>332.461975</td>\n",
       "      <td>226.174515</td>\n",
       "      <td>342.386230</td>\n",
       "      <td>336.732142</td>\n",
       "    </tr>\n",
       "    <tr>\n",
       "      <th>2013-12-24</th>\n",
       "      <td>342.386230</td>\n",
       "      <td>347.348328</td>\n",
       "      <td>332.461975</td>\n",
       "      <td>222.896637</td>\n",
       "      <td>337.424103</td>\n",
       "      <td>337.338673</td>\n",
       "    </tr>\n",
       "    <tr>\n",
       "      <th>...</th>\n",
       "      <td>...</td>\n",
       "      <td>...</td>\n",
       "      <td>...</td>\n",
       "      <td>...</td>\n",
       "      <td>...</td>\n",
       "      <td>...</td>\n",
       "    </tr>\n",
       "    <tr>\n",
       "      <th>2022-09-26</th>\n",
       "      <td>720.000000</td>\n",
       "      <td>725.000000</td>\n",
       "      <td>710.000000</td>\n",
       "      <td>720.000000</td>\n",
       "      <td>720.000000</td>\n",
       "      <td>718.768695</td>\n",
       "    </tr>\n",
       "    <tr>\n",
       "      <th>2022-09-27</th>\n",
       "      <td>720.000000</td>\n",
       "      <td>720.000000</td>\n",
       "      <td>710.000000</td>\n",
       "      <td>715.000000</td>\n",
       "      <td>715.000000</td>\n",
       "      <td>715.502449</td>\n",
       "    </tr>\n",
       "    <tr>\n",
       "      <th>2022-09-28</th>\n",
       "      <td>715.000000</td>\n",
       "      <td>720.000000</td>\n",
       "      <td>710.000000</td>\n",
       "      <td>710.000000</td>\n",
       "      <td>710.000000</td>\n",
       "      <td>716.381008</td>\n",
       "    </tr>\n",
       "    <tr>\n",
       "      <th>2022-09-29</th>\n",
       "      <td>715.000000</td>\n",
       "      <td>715.000000</td>\n",
       "      <td>710.000000</td>\n",
       "      <td>715.000000</td>\n",
       "      <td>715.000000</td>\n",
       "      <td>713.605368</td>\n",
       "    </tr>\n",
       "    <tr>\n",
       "      <th>2022-09-30</th>\n",
       "      <td>715.000000</td>\n",
       "      <td>715.000000</td>\n",
       "      <td>700.000000</td>\n",
       "      <td>710.000000</td>\n",
       "      <td>710.000000</td>\n",
       "      <td>707.698485</td>\n",
       "    </tr>\n",
       "  </tbody>\n",
       "</table>\n",
       "<p>2177 rows × 6 columns</p>\n",
       "</div>"
      ],
      "text/plain": [
       "                  Open        High         Low   Adj Close  \\\n",
       "Date                                                         \n",
       "2013-12-18  337.424103  357.272583  317.575623  229.452393   \n",
       "2013-12-19  347.348328  357.272583  337.424103  226.174515   \n",
       "2013-12-20  332.461975  347.348328  332.461975  226.174515   \n",
       "2013-12-23  332.461975  342.386230  332.461975  226.174515   \n",
       "2013-12-24  342.386230  347.348328  332.461975  222.896637   \n",
       "...                ...         ...         ...         ...   \n",
       "2022-09-26  720.000000  725.000000  710.000000  720.000000   \n",
       "2022-09-27  720.000000  720.000000  710.000000  715.000000   \n",
       "2022-09-28  715.000000  720.000000  710.000000  710.000000   \n",
       "2022-09-29  715.000000  715.000000  710.000000  715.000000   \n",
       "2022-09-30  715.000000  715.000000  700.000000  710.000000   \n",
       "\n",
       "            Actual Close Price  Predicted Close Price  \n",
       "Date                                                   \n",
       "2013-12-18          347.348328             336.343744  \n",
       "2013-12-19          342.386230             345.189616  \n",
       "2013-12-20          342.386230             339.730185  \n",
       "2013-12-23          342.386230             336.732142  \n",
       "2013-12-24          337.424103             337.338673  \n",
       "...                        ...                    ...  \n",
       "2022-09-26          720.000000             718.768695  \n",
       "2022-09-27          715.000000             715.502449  \n",
       "2022-09-28          710.000000             716.381008  \n",
       "2022-09-29          715.000000             713.605368  \n",
       "2022-09-30          710.000000             707.698485  \n",
       "\n",
       "[2177 rows x 6 columns]"
      ]
     },
     "execution_count": 27,
     "metadata": {},
     "output_type": "execute_result"
    }
   ],
   "source": [
    "prediction_df = pd.DataFrame ({'Open' : df['Open'],\n",
    "                               'High' : df['High'],\n",
    "                               'Low' : df['Low'],\n",
    "                               'Adj Close' : df['Adj Close'],\n",
    "                               'Actual Close Price' : df['ClosePrice'],\n",
    "                               'Predicted Close Price' : sklearn_y_prediction\n",
    "                              })\n",
    "prediction_df "
   ]
  },
  {
   "cell_type": "code",
   "execution_count": 28,
   "metadata": {},
   "outputs": [
    {
     "data": {
      "text/plain": [
       "'\\n1. Assuming Close Price[i] = alpha + (beta_1 * Open[i]) + (beta_2 * High[i]) + (beta_3 * Low[i]) + (beta_4 * Adj Close[i]) + error\\n2. Generally y[i] = alpha + (beta_1 * x_1[i]) + (beta_2 * x_2[i]) + (beta_3 * x_3[i]) + (beta_4 * x_4[i]) + error => x is inputs\\n3. Model y_hat[i] = alpha_hat + (beta_1_hat * x_1[i]) + (beta_2_hat * x_2[i]) + (beta_3_hat * x_3[i]) + (beta_4_hat * x_4[i]) + error\\nModel means estimate and alpha_hat is interpcept (ada di Microsoft Excel)\\n'"
      ]
     },
     "execution_count": 28,
     "metadata": {},
     "output_type": "execute_result"
    }
   ],
   "source": [
    "'''\n",
    "1. Assuming Close Price[i] = alpha + (beta_1 * Open[i]) + (beta_2 * High[i]) + (beta_3 * Low[i]) + (beta_4 * Adj Close[i]) + error\n",
    "2. Generally y[i] = alpha + (beta_1 * x_1[i]) + (beta_2 * x_2[i]) + (beta_3 * x_3[i]) + (beta_4 * x_4[i]) + error => x is inputs\n",
    "3. Model y_hat[i] = alpha_hat + (beta_1_hat * x_1[i]) + (beta_2_hat * x_2[i]) + (beta_3_hat * x_3[i]) + (beta_4_hat * x_4[i]) + error\n",
    "Model means estimate and alpha_hat is interpcept (ada di Microsoft Excel)\n",
    "'''"
   ]
  },
  {
   "cell_type": "code",
   "execution_count": 29,
   "metadata": {},
   "outputs": [
    {
     "data": {
      "text/plain": [
       "'\\n---- MULAI GAK NGERTI PENGGUNAAN DAN PERKALIAN MATRIX UNTUK FUNCTION\\nSOurce : https://www.youtube.com/watch?v=KYNuzfn5Fx0\\n'"
      ]
     },
     "execution_count": 29,
     "metadata": {},
     "output_type": "execute_result"
    }
   ],
   "source": [
    "'''\n",
    "---- MULAI GAK NGERTI PENGGUNAAN DAN PERKALIAN MATRIX UNTUK FUNCTION\n",
    "SOurce : https://www.youtube.com/watch?v=KYNuzfn5Fx0\n",
    "'''"
   ]
  },
  {
   "cell_type": "code",
   "execution_count": 30,
   "metadata": {},
   "outputs": [],
   "source": [
    "def get_predictions(model, X): #model is dictionary\n",
    "  '''\n",
    "  Obtain the predictions for the given model and inputs.\n",
    "\n",
    "  model: np.array of Floats with shape (p,) of parameters #From dictionary to List\n",
    "        1st value is alpha_hat\n",
    "        2nd value is beta_1_hat\n",
    "        3rd value is beta_2_hat\n",
    "        4th value is beta_3_hat\n",
    "  X: np.array of Floats with shape (n, p-1) of inputs\n",
    "        SEE MODEL y_hat[i]\n",
    "        n how many rows, datapoints\n",
    "        p-1 if we see up,4th value is beta_3 hat, because of alpha become p-1\n",
    "  Returns: np.array of Floats with shape (n,). \n",
    "  '''\n",
    "\n",
    "  (n, p_minus_one) = X.shape\n",
    "  p = p_minus_one + 1\n",
    "\n",
    "  new_X = np.ones(shape=(n, p))\n",
    "  new_X[:, 1:] = X\n",
    "\n",
    "  return np.dot(new_X, model)"
   ]
  },
  {
   "cell_type": "code",
   "execution_count": 31,
   "metadata": {},
   "outputs": [],
   "source": [
    "Koefisien dari Excel REGRESI\n",
    "#5,272282 + (-0.224772) Open + 0.604189 High + 0.566158 Low + 0.04906 Adj Close"
   ]
  },
  {
   "cell_type": "code",
   "execution_count": 43,
   "metadata": {},
   "outputs": [],
   "source": [
    "test_model = np.array([5.272282 ,-0.224772, 0.604189, 0.566158, 0.04906]) #Alpha hat 1st, beta_hat_1 2nd, ....beta_hat_4 5th (p-1)"
   ]
  },
  {
   "cell_type": "code",
   "execution_count": 44,
   "metadata": {},
   "outputs": [
    {
     "data": {
      "text/plain": [
       "(2177,)"
      ]
     },
     "execution_count": 44,
     "metadata": {},
     "output_type": "execute_result"
    }
   ],
   "source": [
    "get_predictions(test_model, X_train).shape"
   ]
  },
  {
   "cell_type": "code",
   "execution_count": 45,
   "metadata": {},
   "outputs": [
    {
     "data": {
      "text/html": [
       "<div>\n",
       "<style scoped>\n",
       "    .dataframe tbody tr th:only-of-type {\n",
       "        vertical-align: middle;\n",
       "    }\n",
       "\n",
       "    .dataframe tbody tr th {\n",
       "        vertical-align: top;\n",
       "    }\n",
       "\n",
       "    .dataframe thead th {\n",
       "        text-align: right;\n",
       "    }\n",
       "</style>\n",
       "<table border=\"1\" class=\"dataframe\">\n",
       "  <thead>\n",
       "    <tr style=\"text-align: right;\">\n",
       "      <th></th>\n",
       "      <th>Open</th>\n",
       "      <th>High</th>\n",
       "      <th>Low</th>\n",
       "      <th>Adj Close</th>\n",
       "      <th>Actual Close Price</th>\n",
       "      <th>Predicted Close Price</th>\n",
       "      <th>Test Predictions</th>\n",
       "    </tr>\n",
       "    <tr>\n",
       "      <th>Date</th>\n",
       "      <th></th>\n",
       "      <th></th>\n",
       "      <th></th>\n",
       "      <th></th>\n",
       "      <th></th>\n",
       "      <th></th>\n",
       "      <th></th>\n",
       "    </tr>\n",
       "  </thead>\n",
       "  <tbody>\n",
       "    <tr>\n",
       "      <th>2013-12-18</th>\n",
       "      <td>337.424103</td>\n",
       "      <td>357.272583</td>\n",
       "      <td>317.575623</td>\n",
       "      <td>229.452393</td>\n",
       "      <td>347.348328</td>\n",
       "      <td>336.343744</td>\n",
       "      <td>336.343870</td>\n",
       "    </tr>\n",
       "    <tr>\n",
       "      <th>2013-12-19</th>\n",
       "      <td>347.348328</td>\n",
       "      <td>357.272583</td>\n",
       "      <td>337.424103</td>\n",
       "      <td>226.174515</td>\n",
       "      <td>342.386230</td>\n",
       "      <td>345.189616</td>\n",
       "      <td>345.189745</td>\n",
       "    </tr>\n",
       "    <tr>\n",
       "      <th>2013-12-20</th>\n",
       "      <td>332.461975</td>\n",
       "      <td>347.348328</td>\n",
       "      <td>332.461975</td>\n",
       "      <td>226.174515</td>\n",
       "      <td>342.386230</td>\n",
       "      <td>339.730185</td>\n",
       "      <td>339.730306</td>\n",
       "    </tr>\n",
       "    <tr>\n",
       "      <th>2013-12-23</th>\n",
       "      <td>332.461975</td>\n",
       "      <td>342.386230</td>\n",
       "      <td>332.461975</td>\n",
       "      <td>226.174515</td>\n",
       "      <td>342.386230</td>\n",
       "      <td>336.732142</td>\n",
       "      <td>336.732261</td>\n",
       "    </tr>\n",
       "    <tr>\n",
       "      <th>2013-12-24</th>\n",
       "      <td>342.386230</td>\n",
       "      <td>347.348328</td>\n",
       "      <td>332.461975</td>\n",
       "      <td>222.896637</td>\n",
       "      <td>337.424103</td>\n",
       "      <td>337.338673</td>\n",
       "      <td>337.338799</td>\n",
       "    </tr>\n",
       "    <tr>\n",
       "      <th>...</th>\n",
       "      <td>...</td>\n",
       "      <td>...</td>\n",
       "      <td>...</td>\n",
       "      <td>...</td>\n",
       "      <td>...</td>\n",
       "      <td>...</td>\n",
       "      <td>...</td>\n",
       "    </tr>\n",
       "    <tr>\n",
       "      <th>2022-09-26</th>\n",
       "      <td>720.000000</td>\n",
       "      <td>725.000000</td>\n",
       "      <td>710.000000</td>\n",
       "      <td>720.000000</td>\n",
       "      <td>720.000000</td>\n",
       "      <td>718.768695</td>\n",
       "      <td>718.768847</td>\n",
       "    </tr>\n",
       "    <tr>\n",
       "      <th>2022-09-27</th>\n",
       "      <td>720.000000</td>\n",
       "      <td>720.000000</td>\n",
       "      <td>710.000000</td>\n",
       "      <td>715.000000</td>\n",
       "      <td>715.000000</td>\n",
       "      <td>715.502449</td>\n",
       "      <td>715.502602</td>\n",
       "    </tr>\n",
       "    <tr>\n",
       "      <th>2022-09-28</th>\n",
       "      <td>715.000000</td>\n",
       "      <td>720.000000</td>\n",
       "      <td>710.000000</td>\n",
       "      <td>710.000000</td>\n",
       "      <td>710.000000</td>\n",
       "      <td>716.381008</td>\n",
       "      <td>716.381162</td>\n",
       "    </tr>\n",
       "    <tr>\n",
       "      <th>2022-09-29</th>\n",
       "      <td>715.000000</td>\n",
       "      <td>715.000000</td>\n",
       "      <td>710.000000</td>\n",
       "      <td>715.000000</td>\n",
       "      <td>715.000000</td>\n",
       "      <td>713.605368</td>\n",
       "      <td>713.605517</td>\n",
       "    </tr>\n",
       "    <tr>\n",
       "      <th>2022-09-30</th>\n",
       "      <td>715.000000</td>\n",
       "      <td>715.000000</td>\n",
       "      <td>700.000000</td>\n",
       "      <td>710.000000</td>\n",
       "      <td>710.000000</td>\n",
       "      <td>707.698485</td>\n",
       "      <td>707.698637</td>\n",
       "    </tr>\n",
       "  </tbody>\n",
       "</table>\n",
       "<p>2177 rows × 7 columns</p>\n",
       "</div>"
      ],
      "text/plain": [
       "                  Open        High         Low   Adj Close  \\\n",
       "Date                                                         \n",
       "2013-12-18  337.424103  357.272583  317.575623  229.452393   \n",
       "2013-12-19  347.348328  357.272583  337.424103  226.174515   \n",
       "2013-12-20  332.461975  347.348328  332.461975  226.174515   \n",
       "2013-12-23  332.461975  342.386230  332.461975  226.174515   \n",
       "2013-12-24  342.386230  347.348328  332.461975  222.896637   \n",
       "...                ...         ...         ...         ...   \n",
       "2022-09-26  720.000000  725.000000  710.000000  720.000000   \n",
       "2022-09-27  720.000000  720.000000  710.000000  715.000000   \n",
       "2022-09-28  715.000000  720.000000  710.000000  710.000000   \n",
       "2022-09-29  715.000000  715.000000  710.000000  715.000000   \n",
       "2022-09-30  715.000000  715.000000  700.000000  710.000000   \n",
       "\n",
       "            Actual Close Price  Predicted Close Price  Test Predictions  \n",
       "Date                                                                     \n",
       "2013-12-18          347.348328             336.343744        336.343870  \n",
       "2013-12-19          342.386230             345.189616        345.189745  \n",
       "2013-12-20          342.386230             339.730185        339.730306  \n",
       "2013-12-23          342.386230             336.732142        336.732261  \n",
       "2013-12-24          337.424103             337.338673        337.338799  \n",
       "...                        ...                    ...               ...  \n",
       "2022-09-26          720.000000             718.768695        718.768847  \n",
       "2022-09-27          715.000000             715.502449        715.502602  \n",
       "2022-09-28          710.000000             716.381008        716.381162  \n",
       "2022-09-29          715.000000             713.605368        713.605517  \n",
       "2022-09-30          710.000000             707.698485        707.698637  \n",
       "\n",
       "[2177 rows x 7 columns]"
      ]
     },
     "execution_count": 45,
     "metadata": {},
     "output_type": "execute_result"
    }
   ],
   "source": [
    "prediction_df['Test Predictions'] = get_predictions(test_model, X_train) #Add new columns Test Prediction\n",
    "prediction_df #Ada OHL Adj Close\tActual Close Price\tPredicted Close Price "
   ]
  },
  {
   "cell_type": "code",
   "execution_count": 46,
   "metadata": {},
   "outputs": [
    {
     "data": {
      "text/plain": [
       "3.7259692575792958"
      ]
     },
     "execution_count": 46,
     "metadata": {},
     "output_type": "execute_result"
    }
   ],
   "source": [
    "mean_absolute_error(prediction_df['Test Predictions'], y_train)"
   ]
  },
  {
   "cell_type": "code",
   "execution_count": 48,
   "metadata": {},
   "outputs": [
    {
     "data": {
      "text/plain": [
       "29.926773765012268"
      ]
     },
     "execution_count": 48,
     "metadata": {},
     "output_type": "execute_result"
    }
   ],
   "source": [
    "mean_squared_error(prediction_df['Test Predictions'], y_train)"
   ]
  },
  {
   "cell_type": "code",
   "execution_count": null,
   "metadata": {},
   "outputs": [],
   "source": [
    "#ini dari fungsi diatas sklearn sama nilainya\n",
    "#(3.725964120354207, 29.926773745850557)"
   ]
  },
  {
   "cell_type": "code",
   "execution_count": null,
   "metadata": {},
   "outputs": [],
   "source": []
  }
 ],
 "metadata": {
  "colab": {
   "provenance": [
    {
     "file_id": "1d2ekIw5owl4CFDCG_k_pZwvCNtX7SKZJ",
     "timestamp": 1668382041060
    }
   ]
  },
  "kernelspec": {
   "display_name": "Python 3 (ipykernel)",
   "language": "python",
   "name": "python3"
  },
  "language_info": {
   "codemirror_mode": {
    "name": "ipython",
    "version": 3
   },
   "file_extension": ".py",
   "mimetype": "text/x-python",
   "name": "python",
   "nbconvert_exporter": "python",
   "pygments_lexer": "ipython3",
   "version": "3.9.13"
  }
 },
 "nbformat": 4,
 "nbformat_minor": 1
}
